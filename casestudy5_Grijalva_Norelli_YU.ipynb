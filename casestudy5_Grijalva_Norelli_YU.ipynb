{
 "cells": [
  {
   "cell_type": "markdown",
   "id": "efc88429-137a-4a27-96bc-a6fa68251b30",
   "metadata": {},
   "source": [
    "# Case Study Five\n",
    "## Firewall Implementation\n",
    "\n",
    "#### David Grijalva, Nicole Norelli, & Mingyang Nick YU\n",
    "#### 10/29/2021\n",
    " \n",
    "**Abstract**  \n",
    "\n",
    "The following deliverable investigated and predicted whether to allow, deny, or drop access to incoming requests for a large company with many firewall interactions. SVC (Support Vector Classifier) and SGD (Stochastic Gradient Descent) using 'log' loss were the primary machine learning methods used for classification. Both methods generated superb prediction, precision, and recall for each class; however, SGD was much faster to train in comparison."
   ]
  },
  {
   "cell_type": "markdown",
   "id": "24b43e3b-925f-447c-b798-7f63ee2f2091",
   "metadata": {},
   "source": [
    "## 1. Introduction  \n",
    "\n",
    "This case study focused on predicting how to deal with internet requests coming in for a large company with many firewall interactions. The original dataset had 65,532 instances. Each instance was one previous incoming traffic that had been logged, and the decision made for that incoming traffic by a cyber security expert. There were four class of actions labeled: allow (allow the request to pass), deny (block traffic and enforce default denied action defined), drop (silently drop the traffic), and reset-both (sent TCP reset to both client and server devices). However, based on the company feedback, reset-both was not a primary interest for the company and that class's instances were dropped accordingly. This reduced the total instances to 65,478. There was no missing data, and other than actions taken, there were 11 features of each request being logged (Table 1).\n",
    "\n",
    "|Feature Name | Description |\n",
    "|---|---|\n",
    "| Source Port | Client Source Port |\n",
    "| Destination Port | Client Destination Port |\n",
    "| NAT Source Port | Network Address Translation Source Port |\n",
    "| NAT Destination Port | Network Address Translation Destination Port |\n",
    "| Bytes | Total Bytes |\n",
    "| Bytes Sent | Total Bytes Sent |\n",
    "| Bytes Received | Total Bytes Received |\n",
    "| Packets | Total Packets |\n",
    "| Elapsed Time (sec) | Elapsed Time for flow in seconds |\n",
    "| pkts_sent | Total Packets Sent |\n",
    "| pkts_received | Total Packets Received |\n",
    "\n",
    "<div align=\"center\"> Table 1: Feature Description </div> \n",
    "<br>\n"
   ]
  },
  {
   "cell_type": "markdown",
   "id": "a5ce0d39-0e23-4476-8089-4634729b25d8",
   "metadata": {},
   "source": [
    "### Support Vector Machine\n",
    "\n",
    "Support-vector machines (SVM) are supervised learning models used to deal with small to medium size datasets for classification and regression analysis. The original idea behind SVM is applied to some data point being considered within a $p$-dimensional vector space where the point belongs to one of two classes. The goal is to decide to which class this data point belongs. The algorithm attempts to find a $(p - 1)$-dimension hyperplane to perfectly separate the classes in order to determine which class a data point belongs to. In a perfect world, there could be many choices for the hyperplane; however, the best hyperplane would be the one that represents the largest separation or margin ($\\frac{1} {\\lVert\\beta\\rVert}$) between the two classes. This problem has been solved by the following equation, and the largest margin corresponds to the smallest $\\beta$, note: this equation solves for a SVM that is perfectly separable.\n",
    "\n",
    "<div align=\"center\"> $y_{i} (x_{i}^T \\beta + \\beta_0) \\geqslant M\\lVert\\beta\\rVert$ </div> \n",
    "<br>\n",
    "\n",
    "In reality, a straight line (hyperplane in 2 dimensions) can rarely separate two classes perfectly, thus error terms were introduced to the right side of the equation to account for such problem in the real world. \n",
    "\n",
    "For SVM, a new type of loss called \"Hinge\" was introduced. Negative distance correspond to the wrong side of the hyperplane (misclassification). However, what makes \"Hinge\" loss unique is that points that are correctly classified but within the boundary of the margin can still contribute to the loss. Only points far away from the boundary and classified correctly would contribute no loss to the equation. There are different type of Hinge Loss including linear or quadratic. \n",
    "\n",
    "What makes SVM very powerful is the Kernel Trick. This allows data points from original $p$-dimension to be projected into a even higher dimension, and finding the best hyperplanes from different higher dimensions can separate classes better. The kernel trick relies on a transformation and a dot product in order to convert the points into this higher dimension. It is called \"trick\" because the transformation of data into this high dimension never needs to happen. Only the final result of the dot product is needed for the loss function to be optimized. There are many popular kernels including Linear, Polynomial, RBF and sigmoid. \n",
    "\n",
    "It is worth noting that SVM does not scale well to Big Data $O(n^2)$ complexity. SVM needs to find the \"nearest\" points, thus each point must be compared to all other points. When transformation is involved, a matrix of all dot products needs to be stored. SVM also does not provide probabilities of outcome like some other classifiers do. It only supplies hard limits (either class -1 or class 1)."
   ]
  },
  {
   "cell_type": "markdown",
   "id": "4658a93e-3faa-4caa-98c9-378df34bcf9e",
   "metadata": {},
   "source": [
    "### Stochastic Gradient Descent\n",
    "\n",
    "Stochastic Gradient Descent (SGD) is a variant of gradient descent. It is an iterative method for optimizing an objective function with suitable smoothness properties. Gradient descent uses formula:\n",
    "\n",
    "<div align=\"center\"> $m_{n+1} = m_{n} - \\alpha \\bigtriangledown{J(m)} $ </div> \n",
    "<br>\n",
    "\n",
    "The new slopes $n+1$ are the old slopes subtracting the derative of the loss function $J$ times a small learning rate of $\\alpha$. What makes SGD unique is rather than take all the data at once, it takes a sample/batch of the data to estimate the new slopes as below,\n",
    "\n",
    "<div align=\"center\"> $m_{n+1} = m_{n} - \\alpha \\bigtriangledown{Q(m)} $ </div> \n",
    "<br>\n",
    "\n",
    "where $Q$ is the approximation of $J$.\n",
    "\n",
    "This makes SGD no longer confined to limited memory size and able to process much larger datasets as it scans through the data and samples them in batches. There is a new concept called \"epoch\", one epoch just means the entire data has been swept through once. \n",
    "\n",
    "#### Hashing Trick & Hashing Collisions\n",
    "\n",
    "The hashing trick is a key to quickly making a vector available in memory. It utilizes hashing functions which produce a fixed-length unique output, and all features as well as its values are mapped into memory quickly using hashing functions. However, with larger feature space, it is possible for two columns to have the same address, which is known as a hashing collision. Scholars suggest that this is not a problem, and the solution is to make memory space for hash functions big enough to hash all the features in the dataset. \n",
    "<br>\n",
    "\n",
    "### Ridge Regression (L2)\n",
    "\n",
    "The regularization type used for SGD by default is Ridge or L2. The penalty for this is the squared coefficients multiplied by Lambda, which controls the strength of the penalty. Unlike L1 regularization, L2 does not provide feature selection. All features are penalized uniformly but will never reach to zero. In general, L2 is the primary regularization method used to prevent overfitting the model. \n",
    "\n",
    "<b>Penalty Term</b>  \n",
    "$\\lambda \\sum\\limits_{j=0}^k m_j ^2 $   \n",
    "Where $\\lambda $ is the strength of the penalty. If $\\lambda=0 $ then there would be no penalty applied and the original coefficient would be returned. \n"
   ]
  },
  {
   "cell_type": "markdown",
   "id": "9f348732-ead7-46ff-91e2-bc568f1100f7",
   "metadata": {},
   "source": [
    "## 2. Methods"
   ]
  },
  {
   "cell_type": "markdown",
   "id": "c372bff0-47af-4be0-b4c2-2e33d5cf4d39",
   "metadata": {},
   "source": [
    "### Initial Data Observations"
   ]
  },
  {
   "cell_type": "markdown",
   "id": "b4a5870d-9079-43fb-8b37-3794b3c62557",
   "metadata": {},
   "source": [
    "This data set contained 12 features for 65,532 requests. The data set was complete, with no missing data. The response variable was \"Action\", and there were four different categories of \"Action\" in the original data: allow, deny, drop, and reset-both. Upon examination, the category \"reset-both\" had only 54 instances. Because the category was so rare, all requests that resulted in \"reset-both\" were removed from the data set for this analysis. After this removal, there were three response categories for the remaining 65,478 requests.  \n",
    "\n",
    "Exploration of correlations between the numeric variables in the data set showed high correlation (>.95) between \"Bytes\" and \"Packets\", \"Bytes\" and \"pkts_set\", and \"Packets\" and \"pkts_set.\" While these correlations were high, none were above .99 and all features were retained for analysis.  "
   ]
  },
  {
   "cell_type": "markdown",
   "id": "ece0fe98-2c03-4302-b169-4187327ade40",
   "metadata": {},
   "source": [
    "#### Feature Creation  \n",
    "\n",
    "Two new features were created for analysis: \"Source Need NAT\" and \"Destination Need NAT.\" The function need_NAT_or_not returned a 0 if the NAT Source Port or NAT Destination Port was 0 and a 1 if it was any other value. Port 0 is unusual in that it is a \"wildcard port\" and is often blocked for network security <a href=\"https://www.lifewire.com/port-0-in-tcp-and-udp-818145\">(more information here)</a>.\n"
   ]
  },
  {
   "cell_type": "markdown",
   "id": "319dd074-59a7-43f1-b7c1-2448f96a7d15",
   "metadata": {},
   "source": [
    "#### Categorical & Numeric Features"
   ]
  },
  {
   "cell_type": "markdown",
   "id": "e8a0f128-05cf-485c-ab7c-627b16b3a19c",
   "metadata": {},
   "source": [
    "While all features in the data set except the response \"Action\" were in the form of numbers, several features were in fact categorical. A list of the categorical features (categorical_ix) contained: 'Source Port', 'Destination Port', 'NAT Source Port', 'NAT Destination Port', 'Source Need NAT', and 'Destination Need NAT.' While ports are assigned numbers, these are nominal and have no ordinal meaning. The remaining numeric variables (numeric_ix) were: 'Bytes', 'Bytes Sent', 'Bytes Received', 'Packets', 'Elapsed Time (sec)', 'pkts_sent', and 'pkts_received.'"
   ]
  },
  {
   "cell_type": "markdown",
   "id": "599fac96-27f4-4b95-8248-43dce52d6ea8",
   "metadata": {},
   "source": [
    "#### Train/Test Split  \n",
    "\n",
    "The data set was split into an 80% training and 20% test split. This split included a shuffle to eliminate any order effects in the data, and it was stratified because the outcome classes were imbalanced."
   ]
  },
  {
   "cell_type": "markdown",
   "id": "7de323bd-ff43-411b-b27f-7c694f086702",
   "metadata": {},
   "source": [
    "### Creating Models Using Pipeline"
   ]
  },
  {
   "cell_type": "markdown",
   "id": "5063adbc-2340-4077-bd0c-3a6afbc79d39",
   "metadata": {},
   "source": [
    "Each model was created using a pipeline. A pipeline allowed for streamlining of the scaling of numeric variables using MinMaxScaler(), one hot encoding of categorical variables using OneHotEncoder(), and tuning the hyperparameters of the SVM and SGD models. Pipelines prevent data leakage when using grid search with cross validation in order to narrow down the best parameters. Because the outcome classes were imbalanced, a stratified cross validation was used and the model parameter for class weight (for both SVM and SGD) was set to 'balanced'. A random state was also set for reproducibility."
   ]
  },
  {
   "cell_type": "markdown",
   "id": "8eb39722-c133-4403-a531-ce8d73c13e74",
   "metadata": {},
   "source": [
    "### SVM Model  \n",
    "\n"
   ]
  },
  {
   "cell_type": "markdown",
   "id": "cd78b9cd-527e-43e0-ada6-e5630996c0f7",
   "metadata": {},
   "source": [
    "A pipeline was created under the variable 'pipeline_svc' to tune the inverse regularization strength parameter (C), the gamma value (kernel coefficient), and the kernel. Values of [0.001, 0.01, 0.1, 1, 10, 100] for C, values of [\"scale\", \"auto\", 1, 0.1, 0.01, 0.001, 0.0001] for gamma, and kernels of [\"linear\", \"poly\", \"rbf\"] were tried. Ten combinations of these parameter values were chosen using RandomizedSearchCV() in order to tune hyperparameters in a more timely manner. Tuning was conducted on the training data, and stratified, shuffled 10-fold cross validation was used. Training time for the ten combinations was 1 hour 1 minute. The best combination (highest F1 weighted score) had a poly kernel with gamma = 1 and C = 0.01. (This result was tied for best F1 weighted score with a model that had a poly kernel with gamma = 0.1 and C = 10.)\n"
   ]
  },
  {
   "cell_type": "markdown",
   "id": "0291d688-38da-40a3-a316-013656209286",
   "metadata": {},
   "source": [
    "### SGD Model"
   ]
  },
  {
   "cell_type": "markdown",
   "id": "723f0df8-b98f-49ac-b21a-5568c96e808f",
   "metadata": {},
   "source": [
    "A pipelines was created under the variable 'pipeline_sgd' to tune the hyperparameters for the SGD model. Separate hyperparameter combinations were required to compare 'constant' and 'optimal' learning rates because the optimal learning rate requires an eta0 value of 0 whereas the constant learning rate cannot use an eta0 value of 0. Parameter values of [0.000001, 0.00001, 0.0001, 0.001, 0.01] for alpha (a constant that multiplies the regularization term) with a value of [0] for eta0 were included for an optimal learning rate. Parameter values of [0.000001, 0.00001, 0.0001, 0.001, 0.01] for alpha and [0.01, 0.1, 1.0, 5, 10] for eta0 (the initial learning rate) were included for a constant learning rate. Tuning was conducted on the training data, and stratified, shuffled 10-fold cross validation was used. Using GridSearchCV, all combinations of hyperparamters were examined as training was relatively fast, with a training time of 42 seconds for 30 different parameter combinations. The best combination (highest F1 weighted score) had an optimal learning rate with alpha = 0.000001."
   ]
  },
  {
   "cell_type": "markdown",
   "id": "073c46d2-4eaf-4e2a-bb0c-be5d875017e3",
   "metadata": {},
   "source": [
    "## 3. Results  \n",
    "\n",
    "#### Models\n",
    "\n",
    "Table 2 shows a comparison of the two different models attempted. It can be observed that the SVM model generated the highest train weighted F1 of 0.998245 while both models have the exact same results for the test weighted F1.\n",
    "\n",
    "\n",
    "|Model | Train Weighted F1 | Test Weighted F1| \n",
    "|---|---|---|\n",
    "|SVM| 0.998245 | 0.996643 | \n",
    "|SGD| 0.998474 | 0.996643  | \n",
    "\n",
    "\n",
    "<div align=\"center\"> Table 2: Overall performance for each model </div> \n",
    "<br>\n",
    "\n",
    "Precision for a class means among all the instances predicted by the model to be that class, how many are actually that class. Recall for a class means among all the instances that are in that class, how many can the model predict to be that class. Using the SVM model as an example, precision for Allow is 0.999201, which means among all the connections that were predicted to be allowed, 0.999201 of them are actually allowed. Recall for allowed is 0.996413, which means among all the connections that are actually allowed, the model identified 0.996413 of them. Precision and recall for each class under each model are also demonstrated in Table 3.\n",
    "\n",
    "\n",
    "\n",
    "|Model | Drop Precision | Drop Recall | Allow Precision | Allow Recall | Deny Precision | Deny Recall | \n",
    "|---|---|---|---|---|---|---|\n",
    "|SVM| 0.996123 | 0.999611 |   0.999201 |  0.996413|  0.990698 |  0.994663 | \n",
    "|SGD| 0.996123  | 0.999611 |  0.999201 |  0.996413 |  0.990698 |  0.994663 |  \n",
    "\n",
    "\n",
    "\n",
    "<div align=\"center\"> Table 3: Performance by class for each model </div> \n",
    "<br>\n",
    "\n",
    "\n",
    "\n",
    "\n",
    "\n"
   ]
  },
  {
   "cell_type": "markdown",
   "id": "95c17de5-f3a4-48e2-b427-e735ab62f29f",
   "metadata": {},
   "source": [
    "The confusion matrices for SVM (Fig. 1) and SGD (Fig. 2) display the prediction details of each model when making predictions on the test dataset. \n",
    "Not surprisingly when looking at the confusion matrix for both models and the information in Table 2, it can be noted that both models yield the same result of precision and recall for each class. Essentially both models produce that the same number of false negatives and positives per class. This result is to be expected due to how similar the performance for both models is. \n"
   ]
  },
  {
   "cell_type": "code",
   "execution_count": 29,
   "id": "beccd808-028d-4a28-b72a-621f4246ffbe",
   "metadata": {
    "jupyter": {
     "source_hidden": true
    },
    "tags": []
   },
   "outputs": [
    {
     "data": {
      "image/png": "[encoded data removed]",
      "text/plain": [
       "<Figure size 432x288 with 2 Axes>"
      ]
     },
     "metadata": {},
     "output_type": "display_data"
    }
   ],
   "source": [
    "get_confusion_matrix(y_test, predict,mat_title=\"Confusion Matrix - SVM\" )"
   ]
  },
  {
   "cell_type": "markdown",
   "id": "71a1fb12-cd68-4b43-b641-7dec55c4ff19",
   "metadata": {},
   "source": [
    "<div align=\"center\"> Figure 1: SVM Confusion Matrix </div> "
   ]
  },
  {
   "cell_type": "code",
   "execution_count": 31,
   "id": "25106beb-75fb-42d1-9e3a-2868ea07373a",
   "metadata": {
    "jupyter": {
     "source_hidden": true
    },
    "tags": []
   },
   "outputs": [
    {
     "data": {
      "image/png": "[encoded data removed]",
      "text/plain": [
       "<Figure size 432x288 with 2 Axes>"
      ]
     },
     "metadata": {},
     "output_type": "display_data"
    }
   ],
   "source": [
    "get_confusion_matrix(y_test, predict_sgd, mat_title=\"Confusion Matrix - SGD\" )"
   ]
  },
  {
   "cell_type": "markdown",
   "id": "a279d833-5294-4627-9043-e63e9d713010",
   "metadata": {},
   "source": [
    "<div align=\"center\"> Figure 2: SGD Confusion Matrix </div> "
   ]
  },
  {
   "cell_type": "markdown",
   "id": "057cb91a-4c83-43dc-b0d6-dbfc6e7cae5c",
   "metadata": {},
   "source": [
    "## 4. Conclusion  \n",
    "\n",
    "\n",
    "Based on this data, both of these models have extremely high weighted F1 performance from the test set and exactly the same recall/ precision per target class. Given that the performance in both models is the same, to conclude what model is best, it is fair to look at the training performance and efficiency metrics. As can be seen in Table 4, the SVM model took 1 hour and 1 minute to train 100 fits while the SGD model took 42 seconds to train 300 fits. The training time is 78 times longer for the SVM model for 3 times the number of fits compared to the SGD. Considering that the results on the test set are the same, it would make more sense to choose the SGD model as it will be faster to train on future model updates. \n",
    "\n",
    "|Model | Training time| Number of Fits|\n",
    "|---|---|---|\n",
    "|SVM| 1h 1m| 100| \n",
    "|SGD| 42 seconds | 300  | \n",
    "\n",
    "\n",
    "<div align=\"center\"> Table 4: Training Time and Number of Fits </div> \n",
    "<br>\n",
    "\n",
    "\n",
    "For future improvements to the classifier, the team can explore further feature selection and feature engineering in order to engineer other useful features. This, however, would require domain knowledge from cyber-security experts. Currently the Source Port, Destination port, NAT source and Destination port features are treated as categorical and all ports known are being one hot encoded. The model is trained only on the known source and destination port levels, which means it might not able to detect malicious new port numbers coming in. To compensate for this lack of knowledge, periodic retraining of the model would be required to incorporate updated knowledge on port levels. Feature engineering, such as a smarter way to first \"manually\" classify commonly used ports and uncommonly used ports into different categories, along with other knowledge provided by domain experts could facilitate the building of a model that is more robust to attacks and better prepare the company for unknown situations.\n"
   ]
  },
  {
   "cell_type": "markdown",
   "id": "fe322f4a-8b3d-45c8-97ae-dff01210c647",
   "metadata": {},
   "source": [
    "## Appendix - Code"
   ]
  },
  {
   "cell_type": "code",
   "execution_count": 1,
   "id": "38280a97-fe16-45f9-a315-ca063d478a79",
   "metadata": {},
   "outputs": [],
   "source": [
    "import pandas as pd\n",
    "import numpy as np\n",
    "import matplotlib.pyplot as plt\n",
    "import seaborn as sns\n",
    "%matplotlib inline\n",
    "\n",
    "import joblib\n",
    "\n",
    "sns.set_theme()\n",
    "# options\n",
    "pd.set_option('display.max_columns', None)\n",
    "# Using fixed os structure\n",
    "\n",
    "from sklearn.preprocessing import OneHotEncoder, MinMaxScaler\n",
    "from sklearn.compose import ColumnTransformer\n",
    "from sklearn.pipeline import Pipeline\n",
    "from sklearn.model_selection import StratifiedKFold, train_test_split, RandomizedSearchCV, GridSearchCV\n",
    "from sklearn.svm import SVC\n",
    "from sklearn.metrics import classification_report,plot_confusion_matrix,plot_roc_curve, auc, roc_curve,confusion_matrix\n",
    "from sklearn.linear_model import SGDClassifier\n",
    "\n",
    "import os\n",
    "cwd = os.getcwd()\n",
    "d = os.path.dirname(cwd)\n",
    "d\n",
    "\n",
    "# Notebook options\n",
    "pd.options.display.max_rows = 99999\n",
    "pd.options.display.max_columns = 99999\n",
    "#pd.options.display.float_format = '{:20,.3f}'.format"
   ]
  },
  {
   "cell_type": "code",
   "execution_count": 2,
   "id": "250aa245-66ca-4835-a68b-beaf3c5e6216",
   "metadata": {},
   "outputs": [],
   "source": [
    "file = cwd + '/log2.csv'\n",
    "data = pd.read_csv(file)"
   ]
  },
  {
   "cell_type": "code",
   "execution_count": 3,
   "id": "42961836-e657-4354-a051-48ca23410079",
   "metadata": {},
   "outputs": [
    {
     "data": {
      "text/html": [
       "<div>\n",
       "<style scoped>\n",
       "    .dataframe tbody tr th:only-of-type {\n",
       "        vertical-align: middle;\n",
       "    }\n",
       "\n",
       "    .dataframe tbody tr th {\n",
       "        vertical-align: top;\n",
       "    }\n",
       "\n",
       "    .dataframe thead th {\n",
       "        text-align: right;\n",
       "    }\n",
       "</style>\n",
       "<table border=\"1\" class=\"dataframe\">\n",
       "  <thead>\n",
       "    <tr style=\"text-align: right;\">\n",
       "      <th></th>\n",
       "      <th>Source Port</th>\n",
       "      <th>Destination Port</th>\n",
       "      <th>NAT Source Port</th>\n",
       "      <th>NAT Destination Port</th>\n",
       "      <th>Action</th>\n",
       "      <th>Bytes</th>\n",
       "      <th>Bytes Sent</th>\n",
       "      <th>Bytes Received</th>\n",
       "      <th>Packets</th>\n",
       "      <th>Elapsed Time (sec)</th>\n",
       "      <th>pkts_sent</th>\n",
       "      <th>pkts_received</th>\n",
       "    </tr>\n",
       "  </thead>\n",
       "  <tbody>\n",
       "    <tr>\n",
       "      <th>0</th>\n",
       "      <td>57222</td>\n",
       "      <td>53</td>\n",
       "      <td>54587</td>\n",
       "      <td>53</td>\n",
       "      <td>allow</td>\n",
       "      <td>177</td>\n",
       "      <td>94</td>\n",
       "      <td>83</td>\n",
       "      <td>2</td>\n",
       "      <td>30</td>\n",
       "      <td>1</td>\n",
       "      <td>1</td>\n",
       "    </tr>\n",
       "    <tr>\n",
       "      <th>1</th>\n",
       "      <td>56258</td>\n",
       "      <td>3389</td>\n",
       "      <td>56258</td>\n",
       "      <td>3389</td>\n",
       "      <td>allow</td>\n",
       "      <td>4768</td>\n",
       "      <td>1600</td>\n",
       "      <td>3168</td>\n",
       "      <td>19</td>\n",
       "      <td>17</td>\n",
       "      <td>10</td>\n",
       "      <td>9</td>\n",
       "    </tr>\n",
       "    <tr>\n",
       "      <th>2</th>\n",
       "      <td>6881</td>\n",
       "      <td>50321</td>\n",
       "      <td>43265</td>\n",
       "      <td>50321</td>\n",
       "      <td>allow</td>\n",
       "      <td>238</td>\n",
       "      <td>118</td>\n",
       "      <td>120</td>\n",
       "      <td>2</td>\n",
       "      <td>1199</td>\n",
       "      <td>1</td>\n",
       "      <td>1</td>\n",
       "    </tr>\n",
       "    <tr>\n",
       "      <th>3</th>\n",
       "      <td>50553</td>\n",
       "      <td>3389</td>\n",
       "      <td>50553</td>\n",
       "      <td>3389</td>\n",
       "      <td>allow</td>\n",
       "      <td>3327</td>\n",
       "      <td>1438</td>\n",
       "      <td>1889</td>\n",
       "      <td>15</td>\n",
       "      <td>17</td>\n",
       "      <td>8</td>\n",
       "      <td>7</td>\n",
       "    </tr>\n",
       "    <tr>\n",
       "      <th>4</th>\n",
       "      <td>50002</td>\n",
       "      <td>443</td>\n",
       "      <td>45848</td>\n",
       "      <td>443</td>\n",
       "      <td>allow</td>\n",
       "      <td>25358</td>\n",
       "      <td>6778</td>\n",
       "      <td>18580</td>\n",
       "      <td>31</td>\n",
       "      <td>16</td>\n",
       "      <td>13</td>\n",
       "      <td>18</td>\n",
       "    </tr>\n",
       "  </tbody>\n",
       "</table>\n",
       "</div>"
      ],
      "text/plain": [
       "   Source Port  Destination Port  NAT Source Port  NAT Destination Port  \\\n",
       "0        57222                53            54587                    53   \n",
       "1        56258              3389            56258                  3389   \n",
       "2         6881             50321            43265                 50321   \n",
       "3        50553              3389            50553                  3389   \n",
       "4        50002               443            45848                   443   \n",
       "\n",
       "  Action  Bytes  Bytes Sent  Bytes Received  Packets  Elapsed Time (sec)  \\\n",
       "0  allow    177          94              83        2                  30   \n",
       "1  allow   4768        1600            3168       19                  17   \n",
       "2  allow    238         118             120        2                1199   \n",
       "3  allow   3327        1438            1889       15                  17   \n",
       "4  allow  25358        6778           18580       31                  16   \n",
       "\n",
       "   pkts_sent  pkts_received  \n",
       "0          1              1  \n",
       "1         10              9  \n",
       "2          1              1  \n",
       "3          8              7  \n",
       "4         13             18  "
      ]
     },
     "execution_count": 3,
     "metadata": {},
     "output_type": "execute_result"
    }
   ],
   "source": [
    "data.head()"
   ]
  },
  {
   "cell_type": "code",
   "execution_count": 4,
   "id": "cf6c8418-3427-4994-ab51-7c1230aac69b",
   "metadata": {},
   "outputs": [
    {
     "name": "stdout",
     "output_type": "stream",
     "text": [
      "<class 'pandas.core.frame.DataFrame'>\n",
      "RangeIndex: 65532 entries, 0 to 65531\n",
      "Data columns (total 12 columns):\n",
      " #   Column                Non-Null Count  Dtype \n",
      "---  ------                --------------  ----- \n",
      " 0   Source Port           65532 non-null  int64 \n",
      " 1   Destination Port      65532 non-null  int64 \n",
      " 2   NAT Source Port       65532 non-null  int64 \n",
      " 3   NAT Destination Port  65532 non-null  int64 \n",
      " 4   Action                65532 non-null  object\n",
      " 5   Bytes                 65532 non-null  int64 \n",
      " 6   Bytes Sent            65532 non-null  int64 \n",
      " 7   Bytes Received        65532 non-null  int64 \n",
      " 8   Packets               65532 non-null  int64 \n",
      " 9   Elapsed Time (sec)    65532 non-null  int64 \n",
      " 10  pkts_sent             65532 non-null  int64 \n",
      " 11  pkts_received         65532 non-null  int64 \n",
      "dtypes: int64(11), object(1)\n",
      "memory usage: 6.0+ MB\n"
     ]
    }
   ],
   "source": [
    "data.info()"
   ]
  },
  {
   "cell_type": "code",
   "execution_count": 5,
   "id": "a89394ec-ec6a-4dbc-9e78-cba403b07241",
   "metadata": {},
   "outputs": [
    {
     "data": {
      "text/plain": [
       "allow         37640\n",
       "deny          14987\n",
       "drop          12851\n",
       "reset-both       54\n",
       "Name: Action, dtype: int64"
      ]
     },
     "execution_count": 5,
     "metadata": {},
     "output_type": "execute_result"
    }
   ],
   "source": [
    "data.Action.value_counts()"
   ]
  },
  {
   "cell_type": "code",
   "execution_count": 6,
   "id": "f1e53b87-9d29-4659-9a56-105ac0527367",
   "metadata": {},
   "outputs": [],
   "source": [
    "# Delete reset-both level from Action per Dr. Slater instruction\n",
    "data = data.loc[data['Action']!='reset-both']"
   ]
  },
  {
   "cell_type": "code",
   "execution_count": 7,
   "id": "9ede283c-f095-494a-8a6e-a1ccc009b2a8",
   "metadata": {},
   "outputs": [
    {
     "name": "stdout",
     "output_type": "stream",
     "text": [
      "Source Port Unique Levels: 22692\n",
      "Destination Port Unique Levels: 3264\n",
      "NAT Source Port Unique Levels: 29143\n",
      "NAT Destination Port Unique Levels: 2533\n"
     ]
    }
   ],
   "source": [
    "print(f\"Source Port Unique Levels: {len(data['Source Port'].unique())}\")\n",
    "print(f\"Destination Port Unique Levels: {len(data['Destination Port'].unique())}\")\n",
    "print(f\"NAT Source Port Unique Levels: {len(data['NAT Source Port'].unique())}\")\n",
    "print(f\"NAT Destination Port Unique Levels: {len(data['NAT Destination Port'].unique())}\")"
   ]
  },
  {
   "cell_type": "code",
   "execution_count": 8,
   "id": "4ce56652-808d-484e-b6e8-b3194225475b",
   "metadata": {},
   "outputs": [
    {
     "name": "stdout",
     "output_type": "stream",
     "text": [
      "total unique values to OneHotEncode all levels: 57632\n"
     ]
    }
   ],
   "source": [
    "total_levels = 22692+3264+29143+2533\n",
    "print(f\"total unique values to OneHotEncode all levels: {total_levels}\")"
   ]
  },
  {
   "cell_type": "code",
   "execution_count": 9,
   "id": "a8942f8c-0483-4dc0-9c02-44023b391982",
   "metadata": {},
   "outputs": [],
   "source": [
    "num_data = data[['Bytes','Bytes Received','Packets','Elapsed Time (sec)','pkts_sent','pkts_received']]"
   ]
  },
  {
   "cell_type": "code",
   "execution_count": 10,
   "id": "a54c9edb-9a12-4a12-bee9-17e5a0d9ab74",
   "metadata": {},
   "outputs": [],
   "source": [
    "# Look at Correlation from File_1 train.csv\n",
    "corr1 = num_data.corr().abs()\n",
    "# See resource below graph\n",
    "upper_tri = corr1.where(np.triu(np.ones(corr1.shape),k=0).astype(np.bool))"
   ]
  },
  {
   "cell_type": "code",
   "execution_count": 11,
   "id": "045a21d9-178f-4a7a-a9c4-ba77ce01c511",
   "metadata": {},
   "outputs": [
    {
     "data": {
      "text/plain": [
       "<AxesSubplot:>"
      ]
     },
     "execution_count": 11,
     "metadata": {},
     "output_type": "execute_result"
    },
    {
     "data": {
      "image/png": "[encoded data removed]",
      "text/plain": [
       "<Figure size 720x720 with 2 Axes>"
      ]
     },
     "metadata": {},
     "output_type": "display_data"
    }
   ],
   "source": [
    "sns.set_theme(style=\"white\")\n",
    "plt.subplots(figsize=(10,10))\n",
    "cmap = sns.diverging_palette(230, 20, as_cmap=True)\n",
    "sns.heatmap(upper_tri, cmap=cmap, vmax=1, center=0.5,annot=True,\n",
    "            square=True, linewidths=.5, cbar_kws={\"shrink\": .5})"
   ]
  },
  {
   "cell_type": "code",
   "execution_count": 12,
   "id": "eea2806f-54eb-4de8-b8e3-2387d8687214",
   "metadata": {},
   "outputs": [
    {
     "name": "stdout",
     "output_type": "stream",
     "text": [
      "     Initial Missing Data Inspection with all Attributes In     \n",
      "\n",
      "Variable Name:                                Missing Percentage%\n",
      "________________________________________________________________\n"
     ]
    }
   ],
   "source": [
    "# Identify attributes with missing data - No missing data found\n",
    "columns_missing_rate = 100*((data.isna()).sum(axis = 0) / len(data))\n",
    "columns_missing_rate = pd.DataFrame(columns_missing_rate)\n",
    "columns_missing_rate = columns_missing_rate.reset_index()\n",
    "columns_missing_rate.columns = ['name','rate']\n",
    "print(\"     Initial Missing Data Inspection with all Attributes In     \\n\")\n",
    "print('{:45s} {:4s}%'.format(\"Variable Name:\",\"Missing Percentage\"))\n",
    "print(\"________________________________________________________________\")\n",
    "for index, row in columns_missing_rate.iterrows():\n",
    "    if row['rate'] > 0:\n",
    "        print(' {:45s} {:4s}%'.format(row['name'],str(np.round(row['rate'],4))))"
   ]
  },
  {
   "cell_type": "code",
   "execution_count": 13,
   "id": "61436939-0d28-446f-a91a-1587c7834fd7",
   "metadata": {},
   "outputs": [],
   "source": [
    "# Create a function to indicate whether network uses NAT - Network Address Translation\n",
    "def need_NAT_or_not(num: int) -> int:\n",
    "    \"\"\"Indicate whether Network needs Network Address Translation\"\"\"\n",
    "    if num == 0:\n",
    "        return num\n",
    "    else:\n",
    "        return 1"
   ]
  },
  {
   "cell_type": "code",
   "execution_count": 14,
   "id": "6f6bbedd-bef1-45f4-ba8a-01b1c6c005fc",
   "metadata": {},
   "outputs": [],
   "source": [
    "# Apply to Source and Destination NAT port check\n",
    "data['Source Need NAT'] = data['NAT Source Port'].apply(lambda x: need_NAT_or_not(x))\n",
    "data['Destination Need NAT'] = data['NAT Destination Port'].apply(lambda x: need_NAT_or_not(x))\n"
   ]
  },
  {
   "cell_type": "code",
   "execution_count": 15,
   "id": "47088dc6-b91b-46eb-a4c0-47463005d069",
   "metadata": {},
   "outputs": [
    {
     "data": {
      "text/html": [
       "<div>\n",
       "<style scoped>\n",
       "    .dataframe tbody tr th:only-of-type {\n",
       "        vertical-align: middle;\n",
       "    }\n",
       "\n",
       "    .dataframe tbody tr th {\n",
       "        vertical-align: top;\n",
       "    }\n",
       "\n",
       "    .dataframe thead th {\n",
       "        text-align: right;\n",
       "    }\n",
       "</style>\n",
       "<table border=\"1\" class=\"dataframe\">\n",
       "  <thead>\n",
       "    <tr style=\"text-align: right;\">\n",
       "      <th></th>\n",
       "      <th>Source Port</th>\n",
       "      <th>Destination Port</th>\n",
       "      <th>NAT Source Port</th>\n",
       "      <th>NAT Destination Port</th>\n",
       "      <th>Action</th>\n",
       "      <th>Bytes</th>\n",
       "      <th>Bytes Sent</th>\n",
       "      <th>Bytes Received</th>\n",
       "      <th>Packets</th>\n",
       "      <th>Elapsed Time (sec)</th>\n",
       "      <th>pkts_sent</th>\n",
       "      <th>pkts_received</th>\n",
       "      <th>Source Need NAT</th>\n",
       "      <th>Destination Need NAT</th>\n",
       "    </tr>\n",
       "  </thead>\n",
       "  <tbody>\n",
       "    <tr>\n",
       "      <th>0</th>\n",
       "      <td>57222</td>\n",
       "      <td>53</td>\n",
       "      <td>54587</td>\n",
       "      <td>53</td>\n",
       "      <td>allow</td>\n",
       "      <td>177</td>\n",
       "      <td>94</td>\n",
       "      <td>83</td>\n",
       "      <td>2</td>\n",
       "      <td>30</td>\n",
       "      <td>1</td>\n",
       "      <td>1</td>\n",
       "      <td>1</td>\n",
       "      <td>1</td>\n",
       "    </tr>\n",
       "    <tr>\n",
       "      <th>1</th>\n",
       "      <td>56258</td>\n",
       "      <td>3389</td>\n",
       "      <td>56258</td>\n",
       "      <td>3389</td>\n",
       "      <td>allow</td>\n",
       "      <td>4768</td>\n",
       "      <td>1600</td>\n",
       "      <td>3168</td>\n",
       "      <td>19</td>\n",
       "      <td>17</td>\n",
       "      <td>10</td>\n",
       "      <td>9</td>\n",
       "      <td>1</td>\n",
       "      <td>1</td>\n",
       "    </tr>\n",
       "    <tr>\n",
       "      <th>2</th>\n",
       "      <td>6881</td>\n",
       "      <td>50321</td>\n",
       "      <td>43265</td>\n",
       "      <td>50321</td>\n",
       "      <td>allow</td>\n",
       "      <td>238</td>\n",
       "      <td>118</td>\n",
       "      <td>120</td>\n",
       "      <td>2</td>\n",
       "      <td>1199</td>\n",
       "      <td>1</td>\n",
       "      <td>1</td>\n",
       "      <td>1</td>\n",
       "      <td>1</td>\n",
       "    </tr>\n",
       "    <tr>\n",
       "      <th>3</th>\n",
       "      <td>50553</td>\n",
       "      <td>3389</td>\n",
       "      <td>50553</td>\n",
       "      <td>3389</td>\n",
       "      <td>allow</td>\n",
       "      <td>3327</td>\n",
       "      <td>1438</td>\n",
       "      <td>1889</td>\n",
       "      <td>15</td>\n",
       "      <td>17</td>\n",
       "      <td>8</td>\n",
       "      <td>7</td>\n",
       "      <td>1</td>\n",
       "      <td>1</td>\n",
       "    </tr>\n",
       "    <tr>\n",
       "      <th>4</th>\n",
       "      <td>50002</td>\n",
       "      <td>443</td>\n",
       "      <td>45848</td>\n",
       "      <td>443</td>\n",
       "      <td>allow</td>\n",
       "      <td>25358</td>\n",
       "      <td>6778</td>\n",
       "      <td>18580</td>\n",
       "      <td>31</td>\n",
       "      <td>16</td>\n",
       "      <td>13</td>\n",
       "      <td>18</td>\n",
       "      <td>1</td>\n",
       "      <td>1</td>\n",
       "    </tr>\n",
       "  </tbody>\n",
       "</table>\n",
       "</div>"
      ],
      "text/plain": [
       "   Source Port  Destination Port  NAT Source Port  NAT Destination Port  \\\n",
       "0        57222                53            54587                    53   \n",
       "1        56258              3389            56258                  3389   \n",
       "2         6881             50321            43265                 50321   \n",
       "3        50553              3389            50553                  3389   \n",
       "4        50002               443            45848                   443   \n",
       "\n",
       "  Action  Bytes  Bytes Sent  Bytes Received  Packets  Elapsed Time (sec)  \\\n",
       "0  allow    177          94              83        2                  30   \n",
       "1  allow   4768        1600            3168       19                  17   \n",
       "2  allow    238         118             120        2                1199   \n",
       "3  allow   3327        1438            1889       15                  17   \n",
       "4  allow  25358        6778           18580       31                  16   \n",
       "\n",
       "   pkts_sent  pkts_received  Source Need NAT  Destination Need NAT  \n",
       "0          1              1                1                     1  \n",
       "1         10              9                1                     1  \n",
       "2          1              1                1                     1  \n",
       "3          8              7                1                     1  \n",
       "4         13             18                1                     1  "
      ]
     },
     "execution_count": 15,
     "metadata": {},
     "output_type": "execute_result"
    }
   ],
   "source": [
    "data.head()"
   ]
  },
  {
   "cell_type": "code",
   "execution_count": 16,
   "id": "b70fb88e-308d-4b80-a8d1-936490132282",
   "metadata": {},
   "outputs": [],
   "source": [
    "# X, y = data.drop(['NAT Source Port','NAT Destination Port','Action'],inplace=False,axis=1),data['Action']\n",
    "\n",
    "# X, y using all data levels in Source Port, Destination Port, NAT Source Port, NAT Destination Port\n",
    "X, y = data.drop(['Action'],inplace=False,axis=1),data['Action']"
   ]
  },
  {
   "cell_type": "code",
   "execution_count": 17,
   "id": "ce1ac05c-7b71-4cb5-a13f-0fa972296bf2",
   "metadata": {},
   "outputs": [],
   "source": [
    "X_train, X_test, y_train, y_test = train_test_split(X, y, test_size=0.20, shuffle=True, random_state=43, stratify=y)\n"
   ]
  },
  {
   "cell_type": "code",
   "execution_count": 18,
   "id": "463f39dd-1448-44f7-ac24-dd9e4d4a48c7",
   "metadata": {},
   "outputs": [
    {
     "data": {
      "text/html": [
       "<div>\n",
       "<style scoped>\n",
       "    .dataframe tbody tr th:only-of-type {\n",
       "        vertical-align: middle;\n",
       "    }\n",
       "\n",
       "    .dataframe tbody tr th {\n",
       "        vertical-align: top;\n",
       "    }\n",
       "\n",
       "    .dataframe thead th {\n",
       "        text-align: right;\n",
       "    }\n",
       "</style>\n",
       "<table border=\"1\" class=\"dataframe\">\n",
       "  <thead>\n",
       "    <tr style=\"text-align: right;\">\n",
       "      <th></th>\n",
       "      <th>Source Port</th>\n",
       "      <th>Destination Port</th>\n",
       "      <th>NAT Source Port</th>\n",
       "      <th>NAT Destination Port</th>\n",
       "      <th>Bytes</th>\n",
       "      <th>Bytes Sent</th>\n",
       "      <th>Bytes Received</th>\n",
       "      <th>Packets</th>\n",
       "      <th>Elapsed Time (sec)</th>\n",
       "      <th>pkts_sent</th>\n",
       "      <th>pkts_received</th>\n",
       "      <th>Source Need NAT</th>\n",
       "      <th>Destination Need NAT</th>\n",
       "    </tr>\n",
       "  </thead>\n",
       "  <tbody>\n",
       "    <tr>\n",
       "      <th>0</th>\n",
       "      <td>57222</td>\n",
       "      <td>53</td>\n",
       "      <td>54587</td>\n",
       "      <td>53</td>\n",
       "      <td>177</td>\n",
       "      <td>94</td>\n",
       "      <td>83</td>\n",
       "      <td>2</td>\n",
       "      <td>30</td>\n",
       "      <td>1</td>\n",
       "      <td>1</td>\n",
       "      <td>1</td>\n",
       "      <td>1</td>\n",
       "    </tr>\n",
       "    <tr>\n",
       "      <th>1</th>\n",
       "      <td>56258</td>\n",
       "      <td>3389</td>\n",
       "      <td>56258</td>\n",
       "      <td>3389</td>\n",
       "      <td>4768</td>\n",
       "      <td>1600</td>\n",
       "      <td>3168</td>\n",
       "      <td>19</td>\n",
       "      <td>17</td>\n",
       "      <td>10</td>\n",
       "      <td>9</td>\n",
       "      <td>1</td>\n",
       "      <td>1</td>\n",
       "    </tr>\n",
       "    <tr>\n",
       "      <th>2</th>\n",
       "      <td>6881</td>\n",
       "      <td>50321</td>\n",
       "      <td>43265</td>\n",
       "      <td>50321</td>\n",
       "      <td>238</td>\n",
       "      <td>118</td>\n",
       "      <td>120</td>\n",
       "      <td>2</td>\n",
       "      <td>1199</td>\n",
       "      <td>1</td>\n",
       "      <td>1</td>\n",
       "      <td>1</td>\n",
       "      <td>1</td>\n",
       "    </tr>\n",
       "    <tr>\n",
       "      <th>3</th>\n",
       "      <td>50553</td>\n",
       "      <td>3389</td>\n",
       "      <td>50553</td>\n",
       "      <td>3389</td>\n",
       "      <td>3327</td>\n",
       "      <td>1438</td>\n",
       "      <td>1889</td>\n",
       "      <td>15</td>\n",
       "      <td>17</td>\n",
       "      <td>8</td>\n",
       "      <td>7</td>\n",
       "      <td>1</td>\n",
       "      <td>1</td>\n",
       "    </tr>\n",
       "    <tr>\n",
       "      <th>4</th>\n",
       "      <td>50002</td>\n",
       "      <td>443</td>\n",
       "      <td>45848</td>\n",
       "      <td>443</td>\n",
       "      <td>25358</td>\n",
       "      <td>6778</td>\n",
       "      <td>18580</td>\n",
       "      <td>31</td>\n",
       "      <td>16</td>\n",
       "      <td>13</td>\n",
       "      <td>18</td>\n",
       "      <td>1</td>\n",
       "      <td>1</td>\n",
       "    </tr>\n",
       "  </tbody>\n",
       "</table>\n",
       "</div>"
      ],
      "text/plain": [
       "   Source Port  Destination Port  NAT Source Port  NAT Destination Port  \\\n",
       "0        57222                53            54587                    53   \n",
       "1        56258              3389            56258                  3389   \n",
       "2         6881             50321            43265                 50321   \n",
       "3        50553              3389            50553                  3389   \n",
       "4        50002               443            45848                   443   \n",
       "\n",
       "   Bytes  Bytes Sent  Bytes Received  Packets  Elapsed Time (sec)  pkts_sent  \\\n",
       "0    177          94              83        2                  30          1   \n",
       "1   4768        1600            3168       19                  17         10   \n",
       "2    238         118             120        2                1199          1   \n",
       "3   3327        1438            1889       15                  17          8   \n",
       "4  25358        6778           18580       31                  16         13   \n",
       "\n",
       "   pkts_received  Source Need NAT  Destination Need NAT  \n",
       "0              1                1                     1  \n",
       "1              9                1                     1  \n",
       "2              1                1                     1  \n",
       "3              7                1                     1  \n",
       "4             18                1                     1  "
      ]
     },
     "execution_count": 18,
     "metadata": {},
     "output_type": "execute_result"
    }
   ],
   "source": [
    "X.head()"
   ]
  },
  {
   "cell_type": "code",
   "execution_count": 19,
   "id": "0fba700f-30f7-4669-b3fb-1c27e81e4f4e",
   "metadata": {},
   "outputs": [
    {
     "data": {
      "text/plain": [
       "allow    37640\n",
       "deny     14987\n",
       "drop     12851\n",
       "Name: Action, dtype: int64"
      ]
     },
     "execution_count": 19,
     "metadata": {},
     "output_type": "execute_result"
    }
   ],
   "source": [
    "y.value_counts()"
   ]
  },
  {
   "cell_type": "code",
   "execution_count": 20,
   "id": "b81a6dca-8b92-46fe-9f13-afbdd8b668c8",
   "metadata": {},
   "outputs": [],
   "source": [
    "# Strategy to OneHotEncode all leveos in these four columns\n",
    "categorical_ix = ['Source Port','Destination Port','NAT Source Port','NAT Destination Port','Source Need NAT','Destination Need NAT']\n",
    "numeric_ix = [names for names in X.columns if names not in categorical_ix]\n"
   ]
  },
  {
   "cell_type": "markdown",
   "id": "47260e42-cf75-44b9-a147-94bbf399b113",
   "metadata": {},
   "source": [
    "#### Create Helper Functions"
   ]
  },
  {
   "cell_type": "code",
   "execution_count": 21,
   "id": "5c2bff9d-40e8-4f28-b89d-570e376b1317",
   "metadata": {},
   "outputs": [],
   "source": [
    "\n",
    "cv = StratifiedKFold(n_splits=10, shuffle=True, random_state=1)\n",
    "\n",
    "def cv_summary(estimator, columns):\n",
    "    df = pd.DataFrame(estimator.cv_results_)\n",
    "    cv_result_summary = df[columns]\n",
    "    cv_result_summary.index  = np.arange(1,len(cv_result_summary)+1)\n",
    "    cv_result_summary = cv_result_summary.reset_index()\n",
    "    cv_result_summary = cv_result_summary.rename(columns = {\n",
    "        \"index\": \"param_combination\", \"mean_test_score\": \"mean_validation_score\",\n",
    "        \"rank_test_score\": \"rank_validation_score\"\n",
    "    })\n",
    "    return cv_result_summary\n",
    "def get_acc_score(model, x, y):\n",
    "    \"\"\"\n",
    "    Calculates socre from estimator (gridsearch) inherit scorer \n",
    "    \"\"\"\n",
    "    return model.score(x, y)\n",
    "\n",
    "\n",
    "def get_confusion_matrix(y, yhat,mat_title=\"Confusion Matrix\"):\n",
    "    x_axis_labels = ['allow','deny','drop']\n",
    "    y_axis_labels = ['allow','deny','drop']\n",
    "    cm_n = confusion_matrix(y, yhat)\n",
    "    ax = sns.heatmap(cm_n,cmap='Blues',annot=True,fmt='2d',xticklabels=x_axis_labels, yticklabels=y_axis_labels)\n",
    "    ax.set(xlabel='Predicted Label', ylabel='True Label')\n",
    "    ax.set_title(mat_title,fontdict={'fontsize':20},pad=15)\n",
    "\n",
    "def get_classification_report(x_train, y_train, x_test, y_test, pred, model):\n",
    "    \"\"\"\n",
    "    This function is used to get comprehensive classification report for binary response:\n",
    "    Training Accuracy, Test Accuracy, print classification_report, plot confusion matrix.\n",
    "    \"\"\"\n",
    "    print(f\"Training Score: {get_acc_score(model, x_train, y_train):,.6f}\")\n",
    "    print(\"Test result:\")\n",
    "    print(classification_report(y_test,pred,digits=6))\n",
    "    get_confusion_matrix(y_test,pred)\n",
    "    \n",
    "    \n",
    "    \n",
    "# def get_classification_report_multi_response(x_train, y_train, x_test, y_test, pred, model):\n",
    "#     \"\"\"\n",
    "#     This function is used to get comprehensive classification report for multiple response:\n",
    "#     Training Accuracy, Test Accuracy, print classification_report, plot confusion matrix.\n",
    "#     \"\"\"\n",
    "#     print(f\"Weighted AUC: {get_acc_score(model, x_train, y_train):,.5f}\")\n",
    "#     print(\"Classification Report:\")\n",
    "#     print(classification_report(y_test,pred))\n",
    "#     cm_n = confusion_matrix(y_test,pred)\n",
    "#     ax = sns.heatmap(cm_n,cmap='Blues',annot=True,fmt='2d',xticklabels=x_axis_labels, yticklabels=y_axis_labels)\n",
    "#     ax.set(xlabel='Predicted Label', ylabel='True Label')\n",
    "#     ax.set_title(\"Confusion Matrix\",fontdict={'fontsize':20},pad=15)"
   ]
  },
  {
   "cell_type": "markdown",
   "id": "af14baf3-d3dc-41b1-ab9f-c83d9b1107dc",
   "metadata": {},
   "source": [
    "#### Support Vector Classifier Model"
   ]
  },
  {
   "cell_type": "code",
   "execution_count": 22,
   "id": "ccf0ffe0-2674-4836-b00b-cb55777e6b89",
   "metadata": {},
   "outputs": [],
   "source": [
    "params_svc = {\n",
    "    \"model__C\": [0.001, 0.01, 0.1, 1, 10, 100],\n",
    "    \"model__gamma\": [\"scale\", \"auto\", 1, 0.1, 0.01, 0.001, 0.0001],\n",
    "    \"model__kernel\":[\"linear\", \"poly\", \"rbf\"],\n",
    "    \"model__class_weight\":[\"balanced\"]\n",
    "}"
   ]
  },
  {
   "cell_type": "markdown",
   "id": "06812fc9-e1dd-46e5-aeaa-e1efd25bf82d",
   "metadata": {},
   "source": [
    "#### Result for keeping all original levels for training"
   ]
  },
  {
   "cell_type": "code",
   "execution_count": 30,
   "id": "5f378c72-121c-4332-bb75-25a4c4d40d31",
   "metadata": {},
   "outputs": [
    {
     "name": "stdout",
     "output_type": "stream",
     "text": [
      "Fitting 10 folds for each of 10 candidates, totalling 100 fits\n",
      "CPU times: user 1min 3s, sys: 1.47 s, total: 1min 5s\n",
      "Wall time: 1h 1min 39s\n"
     ]
    }
   ],
   "source": [
    "%%time\n",
    "\n",
    "# define preprocessing for columns\n",
    "t = [('cat', OneHotEncoder(handle_unknown='ignore'), categorical_ix), \n",
    "     ('scale', MinMaxScaler(), numeric_ix)]\n",
    "col_transform = ColumnTransformer(t)\n",
    "model_svc = SVC()\n",
    "pipeline_svc = Pipeline(steps=[('preprocessing',col_transform), ('model', model_svc)])\n",
    "\n",
    "#Fit\n",
    "clf_svc = RandomizedSearchCV(pipeline_svc, params_svc, n_iter=10, scoring='f1_weighted',\n",
    "                             random_state=123, verbose=15, cv=cv, n_jobs=-2,return_train_score=True)\n",
    "search_svc = clf_svc.fit(X_train, y_train)"
   ]
  },
  {
   "cell_type": "code",
   "execution_count": 31,
   "id": "9a8c450f-467c-4aec-a377-31e3af9aa312",
   "metadata": {},
   "outputs": [
    {
     "data": {
      "text/html": [
       "<div>\n",
       "<style scoped>\n",
       "    .dataframe tbody tr th:only-of-type {\n",
       "        vertical-align: middle;\n",
       "    }\n",
       "\n",
       "    .dataframe tbody tr th {\n",
       "        vertical-align: top;\n",
       "    }\n",
       "\n",
       "    .dataframe thead th {\n",
       "        text-align: right;\n",
       "    }\n",
       "</style>\n",
       "<table border=\"1\" class=\"dataframe\">\n",
       "  <thead>\n",
       "    <tr style=\"text-align: right;\">\n",
       "      <th></th>\n",
       "      <th>param_combination</th>\n",
       "      <th>param_model__kernel</th>\n",
       "      <th>param_model__gamma</th>\n",
       "      <th>param_model__class_weight</th>\n",
       "      <th>param_model__C</th>\n",
       "      <th>mean_train_score</th>\n",
       "      <th>mean_validation_score</th>\n",
       "      <th>rank_validation_score</th>\n",
       "    </tr>\n",
       "  </thead>\n",
       "  <tbody>\n",
       "    <tr>\n",
       "      <th>0</th>\n",
       "      <td>1</td>\n",
       "      <td>poly</td>\n",
       "      <td>auto</td>\n",
       "      <td>balanced</td>\n",
       "      <td>0.001</td>\n",
       "      <td>0.066488</td>\n",
       "      <td>0.066490</td>\n",
       "      <td>10</td>\n",
       "    </tr>\n",
       "    <tr>\n",
       "      <th>1</th>\n",
       "      <td>2</td>\n",
       "      <td>poly</td>\n",
       "      <td>0.1</td>\n",
       "      <td>balanced</td>\n",
       "      <td>100</td>\n",
       "      <td>0.998512</td>\n",
       "      <td>0.997349</td>\n",
       "      <td>3</td>\n",
       "    </tr>\n",
       "    <tr>\n",
       "      <th>2</th>\n",
       "      <td>3</td>\n",
       "      <td>rbf</td>\n",
       "      <td>auto</td>\n",
       "      <td>balanced</td>\n",
       "      <td>10</td>\n",
       "      <td>0.990844</td>\n",
       "      <td>0.990845</td>\n",
       "      <td>6</td>\n",
       "    </tr>\n",
       "    <tr>\n",
       "      <th>3</th>\n",
       "      <td>4</td>\n",
       "      <td>linear</td>\n",
       "      <td>0.0001</td>\n",
       "      <td>balanced</td>\n",
       "      <td>1</td>\n",
       "      <td>0.998264</td>\n",
       "      <td>0.997330</td>\n",
       "      <td>4</td>\n",
       "    </tr>\n",
       "    <tr>\n",
       "      <th>4</th>\n",
       "      <td>5</td>\n",
       "      <td>linear</td>\n",
       "      <td>scale</td>\n",
       "      <td>balanced</td>\n",
       "      <td>0.1</td>\n",
       "      <td>0.996068</td>\n",
       "      <td>0.996034</td>\n",
       "      <td>5</td>\n",
       "    </tr>\n",
       "    <tr>\n",
       "      <th>5</th>\n",
       "      <td>6</td>\n",
       "      <td>poly</td>\n",
       "      <td>1</td>\n",
       "      <td>balanced</td>\n",
       "      <td>0.01</td>\n",
       "      <td>0.998258</td>\n",
       "      <td>0.997387</td>\n",
       "      <td>1</td>\n",
       "    </tr>\n",
       "    <tr>\n",
       "      <th>6</th>\n",
       "      <td>7</td>\n",
       "      <td>rbf</td>\n",
       "      <td>1</td>\n",
       "      <td>balanced</td>\n",
       "      <td>0.01</td>\n",
       "      <td>0.990844</td>\n",
       "      <td>0.990845</td>\n",
       "      <td>6</td>\n",
       "    </tr>\n",
       "    <tr>\n",
       "      <th>7</th>\n",
       "      <td>8</td>\n",
       "      <td>rbf</td>\n",
       "      <td>auto</td>\n",
       "      <td>balanced</td>\n",
       "      <td>100</td>\n",
       "      <td>0.990844</td>\n",
       "      <td>0.990845</td>\n",
       "      <td>6</td>\n",
       "    </tr>\n",
       "    <tr>\n",
       "      <th>8</th>\n",
       "      <td>9</td>\n",
       "      <td>poly</td>\n",
       "      <td>0.1</td>\n",
       "      <td>balanced</td>\n",
       "      <td>10</td>\n",
       "      <td>0.998258</td>\n",
       "      <td>0.997387</td>\n",
       "      <td>1</td>\n",
       "    </tr>\n",
       "    <tr>\n",
       "      <th>9</th>\n",
       "      <td>10</td>\n",
       "      <td>linear</td>\n",
       "      <td>0.01</td>\n",
       "      <td>balanced</td>\n",
       "      <td>0.01</td>\n",
       "      <td>0.990844</td>\n",
       "      <td>0.990845</td>\n",
       "      <td>6</td>\n",
       "    </tr>\n",
       "  </tbody>\n",
       "</table>\n",
       "</div>"
      ],
      "text/plain": [
       "   param_combination param_model__kernel param_model__gamma  \\\n",
       "0                  1                poly               auto   \n",
       "1                  2                poly                0.1   \n",
       "2                  3                 rbf               auto   \n",
       "3                  4              linear             0.0001   \n",
       "4                  5              linear              scale   \n",
       "5                  6                poly                  1   \n",
       "6                  7                 rbf                  1   \n",
       "7                  8                 rbf               auto   \n",
       "8                  9                poly                0.1   \n",
       "9                 10              linear               0.01   \n",
       "\n",
       "  param_model__class_weight param_model__C  mean_train_score  \\\n",
       "0                  balanced          0.001          0.066488   \n",
       "1                  balanced            100          0.998512   \n",
       "2                  balanced             10          0.990844   \n",
       "3                  balanced              1          0.998264   \n",
       "4                  balanced            0.1          0.996068   \n",
       "5                  balanced           0.01          0.998258   \n",
       "6                  balanced           0.01          0.990844   \n",
       "7                  balanced            100          0.990844   \n",
       "8                  balanced             10          0.998258   \n",
       "9                  balanced           0.01          0.990844   \n",
       "\n",
       "   mean_validation_score  rank_validation_score  \n",
       "0               0.066490                     10  \n",
       "1               0.997349                      3  \n",
       "2               0.990845                      6  \n",
       "3               0.997330                      4  \n",
       "4               0.996034                      5  \n",
       "5               0.997387                      1  \n",
       "6               0.990845                      6  \n",
       "7               0.990845                      6  \n",
       "8               0.997387                      1  \n",
       "9               0.990845                      6  "
      ]
     },
     "execution_count": 31,
     "metadata": {},
     "output_type": "execute_result"
    }
   ],
   "source": [
    "df_search_svc_cv_results_columns = ['param_model__kernel',\"param_model__gamma\",\"param_model__class_weight\",\n",
    "                                    \"param_model__C\",\"mean_train_score\",\"mean_test_score\",\"rank_test_score\"]\n",
    "df_search_svc_cv_results = cv_summary(search_svc, df_search_svc_cv_results_columns)\n",
    "df_search_svc_cv_results"
   ]
  },
  {
   "cell_type": "code",
   "execution_count": 28,
   "id": "064d3429-7a8b-45c6-abbc-7ba8d85495ff",
   "metadata": {},
   "outputs": [
    {
     "name": "stdout",
     "output_type": "stream",
     "text": [
      "Training Score: 0.998245\n",
      "Test result:\n",
      "              precision    recall  f1-score   support\n",
      "\n",
      "       allow   0.999201  0.996413  0.997805      7528\n",
      "        deny   0.990698  0.994663  0.992676      2998\n",
      "        drop   0.996123  0.999611  0.997864      2570\n",
      "\n",
      "    accuracy                       0.996640     13096\n",
      "   macro avg   0.995340  0.996896  0.996115     13096\n",
      "weighted avg   0.996650  0.996640  0.996643     13096\n",
      "\n"
     ]
    },
    {
     "data": {
      "image/png": "[encoded data removed]",
      "text/plain": [
       "<Figure size 432x288 with 2 Axes>"
      ]
     },
     "metadata": {},
     "output_type": "display_data"
    }
   ],
   "source": [
    "predict = search_svc.predict(X_test)\n",
    "get_classification_report(X_train, y_train, X_test, y_test, predict, search_svc)"
   ]
  },
  {
   "cell_type": "code",
   "execution_count": 29,
   "id": "88ea5545-9a2e-49de-916e-c820006327e2",
   "metadata": {},
   "outputs": [
    {
     "data": {
      "image/png": "[encoded data removed]",
      "text/plain": [
       "<Figure size 432x288 with 2 Axes>"
      ]
     },
     "metadata": {},
     "output_type": "display_data"
    }
   ],
   "source": [
    "get_confusion_matrix(y_test, predict,mat_title=\"Confusion Matrix - SVM\" )"
   ]
  },
  {
   "cell_type": "code",
   "execution_count": 26,
   "id": "7c7c888d-9590-4590-ba96-c7dcdb2a3cdf",
   "metadata": {},
   "outputs": [],
   "source": [
    "file_name_svc = \"search_svc_model.sav\"\n",
    "#joblib.dump(search_svc, file_name_svc)\n",
    "search_svc = joblib.load(file_name_svc)"
   ]
  },
  {
   "cell_type": "markdown",
   "id": "c4c1349a-7201-4f53-bbb3-4873c640aa37",
   "metadata": {},
   "source": [
    "#### SGD Classifier - SKlearn"
   ]
  },
  {
   "cell_type": "code",
   "execution_count": 23,
   "id": "c808ce60-0109-475d-97db-9713e70cf780",
   "metadata": {},
   "outputs": [],
   "source": [
    "params_sgd = [\n",
    "    # optimal learning rate\n",
    "    {\n",
    "        \"model__learning_rate\": [\"optimal\"],\n",
    "        \"model__alpha\": [0.000001, 0.00001, 0.0001, 0.001, 0.01],\n",
    "        \"model__eta0\": [0],\n",
    "        \"model__class_weight\":[\"balanced\"]\n",
    "    },\n",
    "    # constant learning rate (eta0 cannot be 0 for this)\n",
    "    {\n",
    "    \"model__learning_rate\": [\"constant\"],\n",
    "    \"model__alpha\": [0.000001, 0.00001, 0.0001, 0.001, 0.01],\n",
    "    \"model__eta0\": [0.01, 0.1, 1.0, 5, 10],\n",
    "    \"model__class_weight\":[\"balanced\"]\n",
    "    }\n",
    "]"
   ]
  },
  {
   "cell_type": "code",
   "execution_count": 36,
   "id": "a4642665-ad3a-4af3-a1b1-40f9ec85a690",
   "metadata": {},
   "outputs": [
    {
     "name": "stdout",
     "output_type": "stream",
     "text": [
      "Fitting 10 folds for each of 30 candidates, totalling 300 fits\n",
      "CPU times: user 4.31 s, sys: 1.07 s, total: 5.38 s\n",
      "Wall time: 42.1 s\n"
     ]
    }
   ],
   "source": [
    "%%time\n",
    "\n",
    "# define preprocessing for columns\n",
    "t = [('cat', OneHotEncoder(handle_unknown='ignore'), categorical_ix), \n",
    "     ('scale', MinMaxScaler(), numeric_ix)]\n",
    "col_transform = ColumnTransformer(t)\n",
    "model_sgd = SGDClassifier(loss = 'log')\n",
    "pipeline_sgd = Pipeline(steps=[('preprocessing',col_transform), ('model', model_sgd)])\n",
    "\n",
    "#Fit\n",
    "clf_sgd = GridSearchCV(pipeline_sgd, params_sgd, scoring='f1_weighted',\n",
    "                             verbose=15, cv=cv, n_jobs=-2,return_train_score=True)\n",
    "search_sgd = clf_sgd.fit(X_train, y_train)"
   ]
  },
  {
   "cell_type": "code",
   "execution_count": 37,
   "id": "7057b056-cb44-41ef-b7ae-ffe7e35563ee",
   "metadata": {},
   "outputs": [
    {
     "data": {
      "text/html": [
       "<div>\n",
       "<style scoped>\n",
       "    .dataframe tbody tr th:only-of-type {\n",
       "        vertical-align: middle;\n",
       "    }\n",
       "\n",
       "    .dataframe tbody tr th {\n",
       "        vertical-align: top;\n",
       "    }\n",
       "\n",
       "    .dataframe thead th {\n",
       "        text-align: right;\n",
       "    }\n",
       "</style>\n",
       "<table border=\"1\" class=\"dataframe\">\n",
       "  <thead>\n",
       "    <tr style=\"text-align: right;\">\n",
       "      <th></th>\n",
       "      <th>param_combination</th>\n",
       "      <th>param_model__alpha</th>\n",
       "      <th>param_model__eta0</th>\n",
       "      <th>param_model__learning_rate</th>\n",
       "      <th>mean_train_score</th>\n",
       "      <th>mean_validation_score</th>\n",
       "      <th>rank_validation_score</th>\n",
       "    </tr>\n",
       "  </thead>\n",
       "  <tbody>\n",
       "    <tr>\n",
       "      <th>0</th>\n",
       "      <td>1</td>\n",
       "      <td>0.000001</td>\n",
       "      <td>0</td>\n",
       "      <td>optimal</td>\n",
       "      <td>0.998456</td>\n",
       "      <td>0.997061</td>\n",
       "      <td>1</td>\n",
       "    </tr>\n",
       "    <tr>\n",
       "      <th>1</th>\n",
       "      <td>2</td>\n",
       "      <td>0.00001</td>\n",
       "      <td>0</td>\n",
       "      <td>optimal</td>\n",
       "      <td>0.997350</td>\n",
       "      <td>0.996777</td>\n",
       "      <td>4</td>\n",
       "    </tr>\n",
       "    <tr>\n",
       "      <th>2</th>\n",
       "      <td>3</td>\n",
       "      <td>0.0001</td>\n",
       "      <td>0</td>\n",
       "      <td>optimal</td>\n",
       "      <td>0.996044</td>\n",
       "      <td>0.996034</td>\n",
       "      <td>11</td>\n",
       "    </tr>\n",
       "    <tr>\n",
       "      <th>3</th>\n",
       "      <td>4</td>\n",
       "      <td>0.001</td>\n",
       "      <td>0</td>\n",
       "      <td>optimal</td>\n",
       "      <td>0.990844</td>\n",
       "      <td>0.990845</td>\n",
       "      <td>20</td>\n",
       "    </tr>\n",
       "    <tr>\n",
       "      <th>4</th>\n",
       "      <td>5</td>\n",
       "      <td>0.01</td>\n",
       "      <td>0</td>\n",
       "      <td>optimal</td>\n",
       "      <td>0.990844</td>\n",
       "      <td>0.990845</td>\n",
       "      <td>20</td>\n",
       "    </tr>\n",
       "    <tr>\n",
       "      <th>5</th>\n",
       "      <td>6</td>\n",
       "      <td>0.000001</td>\n",
       "      <td>0.01</td>\n",
       "      <td>constant</td>\n",
       "      <td>0.996033</td>\n",
       "      <td>0.996034</td>\n",
       "      <td>11</td>\n",
       "    </tr>\n",
       "    <tr>\n",
       "      <th>6</th>\n",
       "      <td>7</td>\n",
       "      <td>0.000001</td>\n",
       "      <td>0.1</td>\n",
       "      <td>constant</td>\n",
       "      <td>0.996959</td>\n",
       "      <td>0.996415</td>\n",
       "      <td>7</td>\n",
       "    </tr>\n",
       "    <tr>\n",
       "      <th>7</th>\n",
       "      <td>8</td>\n",
       "      <td>0.000001</td>\n",
       "      <td>1.0</td>\n",
       "      <td>constant</td>\n",
       "      <td>0.998114</td>\n",
       "      <td>0.997060</td>\n",
       "      <td>2</td>\n",
       "    </tr>\n",
       "    <tr>\n",
       "      <th>8</th>\n",
       "      <td>9</td>\n",
       "      <td>0.000001</td>\n",
       "      <td>5</td>\n",
       "      <td>constant</td>\n",
       "      <td>0.997796</td>\n",
       "      <td>0.997023</td>\n",
       "      <td>3</td>\n",
       "    </tr>\n",
       "    <tr>\n",
       "      <th>9</th>\n",
       "      <td>10</td>\n",
       "      <td>0.000001</td>\n",
       "      <td>10</td>\n",
       "      <td>constant</td>\n",
       "      <td>0.996982</td>\n",
       "      <td>0.996643</td>\n",
       "      <td>6</td>\n",
       "    </tr>\n",
       "    <tr>\n",
       "      <th>10</th>\n",
       "      <td>11</td>\n",
       "      <td>0.00001</td>\n",
       "      <td>0.01</td>\n",
       "      <td>constant</td>\n",
       "      <td>0.996033</td>\n",
       "      <td>0.996034</td>\n",
       "      <td>11</td>\n",
       "    </tr>\n",
       "    <tr>\n",
       "      <th>11</th>\n",
       "      <td>12</td>\n",
       "      <td>0.00001</td>\n",
       "      <td>0.1</td>\n",
       "      <td>constant</td>\n",
       "      <td>0.996740</td>\n",
       "      <td>0.996071</td>\n",
       "      <td>9</td>\n",
       "    </tr>\n",
       "    <tr>\n",
       "      <th>12</th>\n",
       "      <td>13</td>\n",
       "      <td>0.00001</td>\n",
       "      <td>1.0</td>\n",
       "      <td>constant</td>\n",
       "      <td>0.997304</td>\n",
       "      <td>0.996774</td>\n",
       "      <td>5</td>\n",
       "    </tr>\n",
       "    <tr>\n",
       "      <th>13</th>\n",
       "      <td>14</td>\n",
       "      <td>0.00001</td>\n",
       "      <td>5</td>\n",
       "      <td>constant</td>\n",
       "      <td>0.995501</td>\n",
       "      <td>0.995142</td>\n",
       "      <td>16</td>\n",
       "    </tr>\n",
       "    <tr>\n",
       "      <th>14</th>\n",
       "      <td>15</td>\n",
       "      <td>0.00001</td>\n",
       "      <td>10</td>\n",
       "      <td>constant</td>\n",
       "      <td>0.995259</td>\n",
       "      <td>0.995218</td>\n",
       "      <td>15</td>\n",
       "    </tr>\n",
       "    <tr>\n",
       "      <th>15</th>\n",
       "      <td>16</td>\n",
       "      <td>0.0001</td>\n",
       "      <td>0.01</td>\n",
       "      <td>constant</td>\n",
       "      <td>0.996033</td>\n",
       "      <td>0.996034</td>\n",
       "      <td>11</td>\n",
       "    </tr>\n",
       "    <tr>\n",
       "      <th>16</th>\n",
       "      <td>17</td>\n",
       "      <td>0.0001</td>\n",
       "      <td>0.1</td>\n",
       "      <td>constant</td>\n",
       "      <td>0.996065</td>\n",
       "      <td>0.996053</td>\n",
       "      <td>10</td>\n",
       "    </tr>\n",
       "    <tr>\n",
       "      <th>17</th>\n",
       "      <td>18</td>\n",
       "      <td>0.0001</td>\n",
       "      <td>1.0</td>\n",
       "      <td>constant</td>\n",
       "      <td>0.996078</td>\n",
       "      <td>0.996072</td>\n",
       "      <td>8</td>\n",
       "    </tr>\n",
       "    <tr>\n",
       "      <th>18</th>\n",
       "      <td>19</td>\n",
       "      <td>0.0001</td>\n",
       "      <td>5</td>\n",
       "      <td>constant</td>\n",
       "      <td>0.993525</td>\n",
       "      <td>0.993394</td>\n",
       "      <td>17</td>\n",
       "    </tr>\n",
       "    <tr>\n",
       "      <th>19</th>\n",
       "      <td>20</td>\n",
       "      <td>0.0001</td>\n",
       "      <td>10</td>\n",
       "      <td>constant</td>\n",
       "      <td>0.991085</td>\n",
       "      <td>0.991137</td>\n",
       "      <td>19</td>\n",
       "    </tr>\n",
       "    <tr>\n",
       "      <th>20</th>\n",
       "      <td>21</td>\n",
       "      <td>0.001</td>\n",
       "      <td>0.01</td>\n",
       "      <td>constant</td>\n",
       "      <td>0.990844</td>\n",
       "      <td>0.990845</td>\n",
       "      <td>20</td>\n",
       "    </tr>\n",
       "    <tr>\n",
       "      <th>21</th>\n",
       "      <td>22</td>\n",
       "      <td>0.001</td>\n",
       "      <td>0.1</td>\n",
       "      <td>constant</td>\n",
       "      <td>0.990844</td>\n",
       "      <td>0.990845</td>\n",
       "      <td>20</td>\n",
       "    </tr>\n",
       "    <tr>\n",
       "      <th>22</th>\n",
       "      <td>23</td>\n",
       "      <td>0.001</td>\n",
       "      <td>1.0</td>\n",
       "      <td>constant</td>\n",
       "      <td>0.991948</td>\n",
       "      <td>0.991753</td>\n",
       "      <td>18</td>\n",
       "    </tr>\n",
       "    <tr>\n",
       "      <th>23</th>\n",
       "      <td>24</td>\n",
       "      <td>0.001</td>\n",
       "      <td>5</td>\n",
       "      <td>constant</td>\n",
       "      <td>0.907697</td>\n",
       "      <td>0.907078</td>\n",
       "      <td>28</td>\n",
       "    </tr>\n",
       "    <tr>\n",
       "      <th>24</th>\n",
       "      <td>25</td>\n",
       "      <td>0.001</td>\n",
       "      <td>10</td>\n",
       "      <td>constant</td>\n",
       "      <td>0.961348</td>\n",
       "      <td>0.961267</td>\n",
       "      <td>27</td>\n",
       "    </tr>\n",
       "    <tr>\n",
       "      <th>25</th>\n",
       "      <td>26</td>\n",
       "      <td>0.01</td>\n",
       "      <td>0.01</td>\n",
       "      <td>constant</td>\n",
       "      <td>0.990844</td>\n",
       "      <td>0.990845</td>\n",
       "      <td>20</td>\n",
       "    </tr>\n",
       "    <tr>\n",
       "      <th>26</th>\n",
       "      <td>27</td>\n",
       "      <td>0.01</td>\n",
       "      <td>0.1</td>\n",
       "      <td>constant</td>\n",
       "      <td>0.990844</td>\n",
       "      <td>0.990845</td>\n",
       "      <td>20</td>\n",
       "    </tr>\n",
       "    <tr>\n",
       "      <th>27</th>\n",
       "      <td>28</td>\n",
       "      <td>0.01</td>\n",
       "      <td>1.0</td>\n",
       "      <td>constant</td>\n",
       "      <td>0.990844</td>\n",
       "      <td>0.990845</td>\n",
       "      <td>20</td>\n",
       "    </tr>\n",
       "    <tr>\n",
       "      <th>28</th>\n",
       "      <td>29</td>\n",
       "      <td>0.01</td>\n",
       "      <td>5</td>\n",
       "      <td>constant</td>\n",
       "      <td>0.803074</td>\n",
       "      <td>0.803282</td>\n",
       "      <td>29</td>\n",
       "    </tr>\n",
       "    <tr>\n",
       "      <th>29</th>\n",
       "      <td>30</td>\n",
       "      <td>0.01</td>\n",
       "      <td>10</td>\n",
       "      <td>constant</td>\n",
       "      <td>0.684467</td>\n",
       "      <td>0.683655</td>\n",
       "      <td>30</td>\n",
       "    </tr>\n",
       "  </tbody>\n",
       "</table>\n",
       "</div>"
      ],
      "text/plain": [
       "    param_combination param_model__alpha param_model__eta0  \\\n",
       "0                   1           0.000001                 0   \n",
       "1                   2            0.00001                 0   \n",
       "2                   3             0.0001                 0   \n",
       "3                   4              0.001                 0   \n",
       "4                   5               0.01                 0   \n",
       "5                   6           0.000001              0.01   \n",
       "6                   7           0.000001               0.1   \n",
       "7                   8           0.000001               1.0   \n",
       "8                   9           0.000001                 5   \n",
       "9                  10           0.000001                10   \n",
       "10                 11            0.00001              0.01   \n",
       "11                 12            0.00001               0.1   \n",
       "12                 13            0.00001               1.0   \n",
       "13                 14            0.00001                 5   \n",
       "14                 15            0.00001                10   \n",
       "15                 16             0.0001              0.01   \n",
       "16                 17             0.0001               0.1   \n",
       "17                 18             0.0001               1.0   \n",
       "18                 19             0.0001                 5   \n",
       "19                 20             0.0001                10   \n",
       "20                 21              0.001              0.01   \n",
       "21                 22              0.001               0.1   \n",
       "22                 23              0.001               1.0   \n",
       "23                 24              0.001                 5   \n",
       "24                 25              0.001                10   \n",
       "25                 26               0.01              0.01   \n",
       "26                 27               0.01               0.1   \n",
       "27                 28               0.01               1.0   \n",
       "28                 29               0.01                 5   \n",
       "29                 30               0.01                10   \n",
       "\n",
       "   param_model__learning_rate  mean_train_score  mean_validation_score  \\\n",
       "0                     optimal          0.998456               0.997061   \n",
       "1                     optimal          0.997350               0.996777   \n",
       "2                     optimal          0.996044               0.996034   \n",
       "3                     optimal          0.990844               0.990845   \n",
       "4                     optimal          0.990844               0.990845   \n",
       "5                    constant          0.996033               0.996034   \n",
       "6                    constant          0.996959               0.996415   \n",
       "7                    constant          0.998114               0.997060   \n",
       "8                    constant          0.997796               0.997023   \n",
       "9                    constant          0.996982               0.996643   \n",
       "10                   constant          0.996033               0.996034   \n",
       "11                   constant          0.996740               0.996071   \n",
       "12                   constant          0.997304               0.996774   \n",
       "13                   constant          0.995501               0.995142   \n",
       "14                   constant          0.995259               0.995218   \n",
       "15                   constant          0.996033               0.996034   \n",
       "16                   constant          0.996065               0.996053   \n",
       "17                   constant          0.996078               0.996072   \n",
       "18                   constant          0.993525               0.993394   \n",
       "19                   constant          0.991085               0.991137   \n",
       "20                   constant          0.990844               0.990845   \n",
       "21                   constant          0.990844               0.990845   \n",
       "22                   constant          0.991948               0.991753   \n",
       "23                   constant          0.907697               0.907078   \n",
       "24                   constant          0.961348               0.961267   \n",
       "25                   constant          0.990844               0.990845   \n",
       "26                   constant          0.990844               0.990845   \n",
       "27                   constant          0.990844               0.990845   \n",
       "28                   constant          0.803074               0.803282   \n",
       "29                   constant          0.684467               0.683655   \n",
       "\n",
       "    rank_validation_score  \n",
       "0                       1  \n",
       "1                       4  \n",
       "2                      11  \n",
       "3                      20  \n",
       "4                      20  \n",
       "5                      11  \n",
       "6                       7  \n",
       "7                       2  \n",
       "8                       3  \n",
       "9                       6  \n",
       "10                     11  \n",
       "11                      9  \n",
       "12                      5  \n",
       "13                     16  \n",
       "14                     15  \n",
       "15                     11  \n",
       "16                     10  \n",
       "17                      8  \n",
       "18                     17  \n",
       "19                     19  \n",
       "20                     20  \n",
       "21                     20  \n",
       "22                     18  \n",
       "23                     28  \n",
       "24                     27  \n",
       "25                     20  \n",
       "26                     20  \n",
       "27                     20  \n",
       "28                     29  \n",
       "29                     30  "
      ]
     },
     "execution_count": 37,
     "metadata": {},
     "output_type": "execute_result"
    }
   ],
   "source": [
    "df_search_sgd_cv_results_columns = [\"param_model__alpha\",\"param_model__eta0\",\"param_model__learning_rate\",\n",
    "                                    \"mean_train_score\",\"mean_test_score\",\"rank_test_score\"]\n",
    "df_search_sgd_cv_results = cv_summary(search_sgd, df_search_sgd_cv_results_columns)\n",
    "df_search_sgd_cv_results"
   ]
  },
  {
   "cell_type": "code",
   "execution_count": 30,
   "id": "a63bfdff-504a-4a9f-a73d-cccb8f1bec58",
   "metadata": {},
   "outputs": [
    {
     "name": "stdout",
     "output_type": "stream",
     "text": [
      "Training Score: 0.998474\n",
      "Test result:\n",
      "              precision    recall  f1-score   support\n",
      "\n",
      "       allow   0.999201  0.996413  0.997805      7528\n",
      "        deny   0.990698  0.994663  0.992676      2998\n",
      "        drop   0.996123  0.999611  0.997864      2570\n",
      "\n",
      "    accuracy                       0.996640     13096\n",
      "   macro avg   0.995340  0.996896  0.996115     13096\n",
      "weighted avg   0.996650  0.996640  0.996643     13096\n",
      "\n"
     ]
    },
    {
     "data": {
      "image/png": "[encoded data removed]",
      "text/plain": [
       "<Figure size 432x288 with 2 Axes>"
      ]
     },
     "metadata": {},
     "output_type": "display_data"
    }
   ],
   "source": [
    "predict_sgd = search_sgd.predict(X_test)\n",
    "get_classification_report(X_train, y_train, X_test, y_test, predict_sgd, search_sgd)"
   ]
  },
  {
   "cell_type": "code",
   "execution_count": 31,
   "id": "02f214a9-c397-4046-a7c5-76b5011bf3db",
   "metadata": {},
   "outputs": [
    {
     "data": {
      "image/png": "[encoded data removed]",
      "text/plain": [
       "<Figure size 432x288 with 2 Axes>"
      ]
     },
     "metadata": {},
     "output_type": "display_data"
    }
   ],
   "source": [
    "get_confusion_matrix(y_test, predict_sgd, mat_title=\"Confusion Matrix - SGD\" )"
   ]
  },
  {
   "cell_type": "code",
   "execution_count": 24,
   "id": "ccbad139-9c7b-49a6-96c0-0fd03198392c",
   "metadata": {},
   "outputs": [],
   "source": [
    "file_name_sgd = \"search_sgd_model.sav\"\n",
    "# joblib.dump(search_sgd, file_name_sgd)\n",
    "search_sgd = joblib.load(file_name_sgd)"
   ]
  },
  {
   "cell_type": "code",
   "execution_count": null,
   "id": "1cd01df5-2ce8-476e-ae2c-32010d583e04",
   "metadata": {},
   "outputs": [],
   "source": []
  }
 ],
 "metadata": {
  "kernelspec": {
   "display_name": "Python 3",
   "language": "python",
   "name": "python3"
  },
  "language_info": {
   "codemirror_mode": {
    "name": "ipython",
    "version": 3
   },
   "file_extension": ".py",
   "mimetype": "text/x-python",
   "name": "python",
   "nbconvert_exporter": "python",
   "pygments_lexer": "ipython3",
   "version": "3.9.6"
  }
 },
 "nbformat": 4,
 "nbformat_minor": 5
}
